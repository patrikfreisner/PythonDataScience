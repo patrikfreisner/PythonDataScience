{
 "cells": [
  {
   "cell_type": "code",
   "execution_count": 1,
   "metadata": {},
   "outputs": [],
   "source": [
    "import pandas as pd"
   ]
  },
  {
   "cell_type": "code",
   "execution_count": 3,
   "metadata": {},
   "outputs": [],
   "source": [
    "dev_df = pd.read_csv(\"./RITM_ExportData.csv\", encoding=\"LATIN-1\")"
   ]
  },
  {
   "cell_type": "code",
   "execution_count": 32,
   "metadata": {},
   "outputs": [
    {
     "data": {
      "text/html": [
       "<div>\n",
       "<style scoped>\n",
       "    .dataframe tbody tr th:only-of-type {\n",
       "        vertical-align: middle;\n",
       "    }\n",
       "\n",
       "    .dataframe tbody tr th {\n",
       "        vertical-align: top;\n",
       "    }\n",
       "\n",
       "    .dataframe thead th {\n",
       "        text-align: right;\n",
       "    }\n",
       "</style>\n",
       "<table border=\"1\" class=\"dataframe\">\n",
       "  <thead>\n",
       "    <tr style=\"text-align: right;\">\n",
       "      <th></th>\n",
       "      <th>sys_created_on</th>\n",
       "      <th>requested_for</th>\n",
       "      <th>opened_by</th>\n",
       "      <th>description</th>\n",
       "      <th>var_dev_description</th>\n",
       "      <th>var_dev_type</th>\n",
       "      <th>var_impacted_service_offering</th>\n",
       "      <th>var_impacted_area</th>\n",
       "      <th>var_effort</th>\n",
       "    </tr>\n",
       "  </thead>\n",
       "  <tbody>\n",
       "    <tr>\n",
       "      <th>0</th>\n",
       "      <td>11/10/2022 15:15:31</td>\n",
       "      <td>Marcos  Oliveira</td>\n",
       "      <td>Marcos  Oliveira</td>\n",
       "      <td>123</td>\n",
       "      <td>123</td>\n",
       "      <td>Portal (Employees / Internal Users)</td>\n",
       "      <td>NaN</td>\n",
       "      <td>OTC - Order to cash</td>\n",
       "      <td>123.0</td>\n",
       "    </tr>\n",
       "    <tr>\n",
       "      <th>1</th>\n",
       "      <td>11/10/2022 15:11:00</td>\n",
       "      <td>Jonathan Savio Bardt</td>\n",
       "      <td>Jonathan Savio Bardt</td>\n",
       "      <td>123</td>\n",
       "      <td>123</td>\n",
       "      <td>Service Catalog</td>\n",
       "      <td>NaN</td>\n",
       "      <td>NaN</td>\n",
       "      <td>NaN</td>\n",
       "    </tr>\n",
       "    <tr>\n",
       "      <th>2</th>\n",
       "      <td>10/10/2022 16:50:27</td>\n",
       "      <td>Felipe Gomes Pires</td>\n",
       "      <td>Felipe Gomes Pires</td>\n",
       "      <td>teste</td>\n",
       "      <td>teste</td>\n",
       "      <td>Service Catalog</td>\n",
       "      <td>PTP_060 | Register Document for Payment, PTP_2...</td>\n",
       "      <td>NaN</td>\n",
       "      <td>NaN</td>\n",
       "    </tr>\n",
       "    <tr>\n",
       "      <th>3</th>\n",
       "      <td>10/10/2022 11:27:11</td>\n",
       "      <td>Jonathan Savio Bardt</td>\n",
       "      <td>Jonathan Savio Bardt</td>\n",
       "      <td>123</td>\n",
       "      <td>123</td>\n",
       "      <td>Portal (Employees / Internal Users)</td>\n",
       "      <td>NaN</td>\n",
       "      <td>NaN</td>\n",
       "      <td>NaN</td>\n",
       "    </tr>\n",
       "    <tr>\n",
       "      <th>4</th>\n",
       "      <td>10/10/2022 11:22:56</td>\n",
       "      <td>Matheus Prado</td>\n",
       "      <td>Matheus Prado</td>\n",
       "      <td>123</td>\n",
       "      <td>123</td>\n",
       "      <td>Service Catalog</td>\n",
       "      <td>NaN</td>\n",
       "      <td>NaN</td>\n",
       "      <td>NaN</td>\n",
       "    </tr>\n",
       "  </tbody>\n",
       "</table>\n",
       "</div>"
      ],
      "text/plain": [
       "        sys_created_on         requested_for             opened_by  \\\n",
       "0  11/10/2022 15:15:31      Marcos  Oliveira      Marcos  Oliveira   \n",
       "1  11/10/2022 15:11:00  Jonathan Savio Bardt  Jonathan Savio Bardt   \n",
       "2  10/10/2022 16:50:27    Felipe Gomes Pires    Felipe Gomes Pires   \n",
       "3  10/10/2022 11:27:11  Jonathan Savio Bardt  Jonathan Savio Bardt   \n",
       "4  10/10/2022 11:22:56         Matheus Prado         Matheus Prado   \n",
       "\n",
       "  description var_dev_description                         var_dev_type  \\\n",
       "0         123                 123  Portal (Employees / Internal Users)   \n",
       "1         123                 123                      Service Catalog   \n",
       "2       teste               teste                      Service Catalog   \n",
       "3         123                 123  Portal (Employees / Internal Users)   \n",
       "4         123                 123                      Service Catalog   \n",
       "\n",
       "                       var_impacted_service_offering    var_impacted_area  \\\n",
       "0                                                NaN  OTC - Order to cash   \n",
       "1                                                NaN                  NaN   \n",
       "2  PTP_060 | Register Document for Payment, PTP_2...                  NaN   \n",
       "3                                                NaN                  NaN   \n",
       "4                                                NaN                  NaN   \n",
       "\n",
       "   var_effort  \n",
       "0       123.0  \n",
       "1         NaN  \n",
       "2         NaN  \n",
       "3         NaN  \n",
       "4         NaN  "
      ]
     },
     "execution_count": 32,
     "metadata": {},
     "output_type": "execute_result"
    }
   ],
   "source": [
    "# Define columns name\n",
    "dev_df.columns = [\n",
    "    'sys_created_on',\n",
    "    'requested_for',\n",
    "    'opened_by',\n",
    "    'description',\n",
    "    'var_dev_description',\n",
    "    'var_dev_type',\n",
    "    'var_impacted_service_offering',\n",
    "    'var_impacted_area',\n",
    "    'var_effort'\n",
    "]\n",
    "\n",
    "# Defining columns type\n",
    "dev_df[\"var_effort\"].astype(\"float64\")\n",
    "\n",
    "dev_df.head(5)\n"
   ]
  },
  {
   "cell_type": "code",
   "execution_count": 56,
   "metadata": {},
   "outputs": [
    {
     "name": "stdout",
     "output_type": "stream",
     "text": [
      "sys_created_on                  |  3560  |  0  = Result:  3560\n",
      "requested_for                   |  3560  |  0  = Result:  3560\n",
      "opened_by                       |  3548  |  12  = Result:  3560\n",
      "description                     |  3559  |  1  = Result:  3560\n",
      "var_dev_description             |  3560  |  0  = Result:  3560\n",
      "var_dev_type                    |  3560  |  0  = Result:  3560\n",
      "var_impacted_service_offering   |  1952  |  1608  = Result:  3560\n",
      "var_impacted_area               |  3512  |  48  = Result:  3560\n",
      "var_effort                      |  3510  |  50  = Result:  3560\n"
     ]
    }
   ],
   "source": [
    "def _alignOnPrint(name):\n",
    "    name = str(name)\n",
    "    name + \" \" * (30 - len(name))\n",
    "    return name\n",
    "\n",
    "for name, notNullCount, nullCount in zip(dev_df.columns, dev_df.notnull().sum(), dev_df.isnull().sum()):\n",
    "    print(name + \" \" * (30 - len(name)), \" | \", notNullCount, \" | \", nullCount , \" = Result: \", notNullCount + nullCount)"
   ]
  }
 ],
 "metadata": {
  "kernelspec": {
   "display_name": "Python 3.10.4 ('env': venv)",
   "language": "python",
   "name": "python3"
  },
  "language_info": {
   "codemirror_mode": {
    "name": "ipython",
    "version": 3
   },
   "file_extension": ".py",
   "mimetype": "text/x-python",
   "name": "python",
   "nbconvert_exporter": "python",
   "pygments_lexer": "ipython3",
   "version": "3.10.4"
  },
  "orig_nbformat": 4,
  "vscode": {
   "interpreter": {
    "hash": "78c3fd5810f68422452cc8d89406bfa1f9d96eb6340ecead556bb9d68797532a"
   }
  }
 },
 "nbformat": 4,
 "nbformat_minor": 2
}
