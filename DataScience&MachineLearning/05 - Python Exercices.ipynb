{
 "cells": [
  {
   "cell_type": "code",
   "execution_count": 9,
   "metadata": {},
   "outputs": [
    {
     "name": "stdout",
     "output_type": "stream",
     "text": [
      "0 | <class 'int'>\n"
     ]
    }
   ],
   "source": [
    "# Variables\n",
    "x = 0\n",
    "print(str(x) + \" | \" + str(type(x)))"
   ]
  },
  {
   "cell_type": "code",
   "execution_count": 7,
   "metadata": {},
   "outputs": [
    {
     "name": "stdout",
     "output_type": "stream",
     "text": [
      "5\n"
     ]
    }
   ],
   "source": [
    "# \"//\" means integer division\n",
    "print(11//2)"
   ]
  },
  {
   "cell_type": "code",
   "execution_count": 11,
   "metadata": {},
   "outputs": [
    {
     "data": {
      "text/plain": [
       "0"
      ]
     },
     "execution_count": 11,
     "metadata": {},
     "output_type": "execute_result"
    }
   ],
   "source": [
    "# Can convert boolean to number\n",
    "int(False)"
   ]
  },
  {
   "cell_type": "code",
   "execution_count": 19,
   "metadata": {},
   "outputs": [
    {
     "name": "stdout",
     "output_type": "stream",
     "text": [
      ">>> Try 1: Pti ese\n",
      ">>> Try 2: rik Rei\n",
      ">>> Try 3: 7\n"
     ]
    }
   ],
   "source": [
    "# Array using\n",
    "x = \"Patrik Reisner\"\n",
    "print(\">>> Try 1: \" + x[::2])\n",
    "print(\">>> Try 2: \" + x[3:10])\n",
    "print(\">>> Try 3: \" + str(x.find(\"Reisner\")))\n"
   ]
  },
  {
   "cell_type": "code",
   "execution_count": 32,
   "metadata": {},
   "outputs": [
    {
     "name": "stdout",
     "output_type": "stream",
     "text": [
      "2\n",
      "('hey', 145)\n",
      "['hey', 146]\n"
     ]
    }
   ],
   "source": [
    "# A TUPLE IS NO MUTABLE\n",
    "x = (\"hey\", 145)\n",
    "print(len(x))\n",
    "# x[1] = 10 this cause an error\n",
    "print(x)\n",
    "\n",
    "# LIST IS THE SAME AS TUPLE BUT MUTABLE\n",
    "y = [\"hey\", 145]\n",
    "y[1] = 146\n",
    "print(y)"
   ]
  },
  {
   "cell_type": "code",
   "execution_count": 34,
   "metadata": {},
   "outputs": [
    {
     "name": "stdout",
     "output_type": "stream",
     "text": [
      "[1, 2, 3, 4, 5]\n",
      "[1, 2, 3, [4, 5]]\n"
     ]
    }
   ],
   "source": [
    "# .extends() is diferent from .append()\n",
    "# extends concatenate 2 arrays but append adds the value to next item length\n",
    "x = [1, 2, 3]\n",
    "x.extend([4, 5])\n",
    "print(x)\n",
    "\n",
    "y = [1, 2, 3]\n",
    "y.append([4, 5])\n",
    "print(y)\n"
   ]
  },
  {
   "cell_type": "code",
   "execution_count": 35,
   "metadata": {},
   "outputs": [
    {
     "name": "stdout",
     "output_type": "stream",
     "text": [
      "[0, 1, 3]\n"
     ]
    }
   ],
   "source": [
    "# Deleting items in array\n",
    "x = [0, 1, 2, 3]\n",
    "del(x[-2])\n",
    "\n",
    "print(x)\n"
   ]
  },
  {
   "cell_type": "code",
   "execution_count": 38,
   "metadata": {},
   "outputs": [
    {
     "name": "stdout",
     "output_type": "stream",
     "text": [
      "[1]\n",
      "[1, 2]\n"
     ]
    }
   ],
   "source": [
    "# List aliasing: when using \"<var list> = <second var list>\" you are referencing, not copying\n",
    "x = [1, 2]\n",
    "y = x\n",
    "del(x[-1])\n",
    "print(y)\n",
    "\n",
    "# Using <var list>[:] you copy instead of referencing\n",
    "x = [1, 2]\n",
    "y = x[:]\n",
    "del(x[-1])\n",
    "print(y)"
   ]
  },
  {
   "cell_type": "code",
   "execution_count": 72,
   "metadata": {},
   "outputs": [
    {
     "name": "stdout",
     "output_type": "stream",
     "text": [
      "dict_keys(['key', 'key2'])\n",
      "dict_values(['Hello key 1', 'Helo key 2'])\n",
      "{'key': 'Hello key 1', 'key2': 'Helo key 2'} True\n",
      "{'key2': 'Helo key 2'} False\n"
     ]
    },
    {
     "ename": "AttributeError",
     "evalue": "'dict' object has no attribute 'add'",
     "output_type": "error",
     "traceback": [
      "\u001b[0;31m---------------------------------------------------------------------------\u001b[0m",
      "\u001b[0;31mAttributeError\u001b[0m                            Traceback (most recent call last)",
      "\u001b[1;32m/home/user/backup/aiup2022-26/05 - Python Exercices.ipynb Cell 9\u001b[0m in \u001b[0;36m<cell line: 8>\u001b[0;34m()\u001b[0m\n\u001b[1;32m      <a href='vscode-notebook-cell://ssh-remote%2B7b22686f73744e616d65223a22414955505f3236227d/home/user/backup/aiup2022-26/05%20-%20Python%20Exercices.ipynb#X11sdnNjb2RlLXJlbW90ZQ%3D%3D?line=5'>6</a>\u001b[0m \u001b[39mdel\u001b[39;00m(x[\u001b[39m'\u001b[39m\u001b[39mkey\u001b[39m\u001b[39m'\u001b[39m])\n\u001b[1;32m      <a href='vscode-notebook-cell://ssh-remote%2B7b22686f73744e616d65223a22414955505f3236227d/home/user/backup/aiup2022-26/05%20-%20Python%20Exercices.ipynb#X11sdnNjb2RlLXJlbW90ZQ%3D%3D?line=6'>7</a>\u001b[0m \u001b[39mprint\u001b[39m(x, \u001b[39m\"\u001b[39m\u001b[39mkey\u001b[39m\u001b[39m\"\u001b[39m \u001b[39min\u001b[39;00m x)\n\u001b[0;32m----> <a href='vscode-notebook-cell://ssh-remote%2B7b22686f73744e616d65223a22414955505f3236227d/home/user/backup/aiup2022-26/05%20-%20Python%20Exercices.ipynb#X11sdnNjb2RlLXJlbW90ZQ%3D%3D?line=7'>8</a>\u001b[0m x\u001b[39m.\u001b[39;49madd(\u001b[39m\"\u001b[39m\u001b[39m1\u001b[39m\u001b[39m\"\u001b[39m)\n",
      "\u001b[0;31mAttributeError\u001b[0m: 'dict' object has no attribute 'add'"
     ]
    }
   ],
   "source": [
    "# DICT\n",
    "x = {\"key\": \"Hello key 1\", \"key2\": \"Helo key 2\"}\n",
    "print(x.keys())\n",
    "print(x.values())\n",
    "print(x, \"key\" in x)\n",
    "del(x['key'])\n",
    "print(x, \"key\" in x)"
   ]
  },
  {
   "cell_type": "code",
   "execution_count": null,
   "metadata": {},
   "outputs": [],
   "source": [
    "x = [\"Patrik\", \"Fernando\", \"Reisner\", \"Patrik Fernando Reisner\",\n",
    "     \"Patrik\", 1, 1, {\"key1\": 2}, {\"key1\": 2}]\n",
    "print(\"List: \", x)\n",
    "# CAN'T ADD DICT TO A SET\n",
    "print(\"Set: \", set(x))"
   ]
  },
  {
   "cell_type": "code",
   "execution_count": 66,
   "metadata": {},
   "outputs": [
    {
     "name": "stdout",
     "output_type": "stream",
     "text": [
      ">>> Similar values:  {'AC/DC', 'Back in Black'}\n",
      ">>> What album1 diff from album2 values:  {'Thriller'}\n",
      ">>> What album2 diff from album1 values:  {'The Dark Side of the Moon'}\n",
      ">>> Join 2 sets:  {'The Dark Side of the Moon', 'AC/DC', 'Thriller', 'Back in Black'}\n"
     ]
    }
   ],
   "source": [
    "album_set1 = set([\"Thriller\", 'AC/DC', 'Back in Black'])\n",
    "album_set2 = set([\"AC/DC\", \"Back in Black\", \"The Dark Side of the Moon\"])\n",
    "\n",
    "# get similar values in both sets\n",
    "print(\">>> Similar values: \", album_set1 & album_set2)\n",
    "print(\">>> What album1 diff from album2 values: \", album_set1.difference(album_set2))  # get diff values\n",
    "print(\">>> What album2 diff from album1 values: \", album_set2.difference(album_set1))  # get diff values\n",
    "print(\">>> Join 2 sets: \", album_set1.union(album_set2))  # join both of them\n"
   ]
  },
  {
   "cell_type": "code",
   "execution_count": null,
   "metadata": {},
   "outputs": [],
   "source": [
    "# Loops for\n",
    "for num in range(3):\n",
    "    print (\"Printing:\", num)\n",
    "\n",
    "squares = [\"A\", \"B\", \"C\"]\n",
    "\n",
    "for item in squares:\n",
    "    print(\"Values: \", item)\n",
    "\n",
    "for i,item in enumerate(squares):\n",
    "    print(\"Value \" + str(i) + \" : \", item)\n",
    "\n",
    "# Loops While\n",
    "num = 0\n",
    "while (num < len(squares)):\n",
    "    print(\"While print: \", squares[num])\n",
    "    num += 1"
   ]
  },
  {
   "cell_type": "code",
   "execution_count": 4,
   "metadata": {},
   "outputs": [
    {
     "data": {
      "text/plain": [
       "\"I'm 'secondClass' but also I'm 'myClass'\""
      ]
     },
     "execution_count": 4,
     "metadata": {},
     "output_type": "execute_result"
    }
   ],
   "source": [
    "def myFunction(a, b):\n",
    "    return a + b\n",
    "\n",
    "\n",
    "myFunction('1', '1')\n",
    "\n",
    "\n",
    "class myClass(object):\n",
    "    def __init__(self):\n",
    "        pass\n",
    "\n",
    "    def showSelf(self):\n",
    "        return \"I'm 'myClass'\"\n",
    "\n",
    "class secondClass(myClass):\n",
    "    def __init__(self):\n",
    "        super().__init__()\n",
    "\n",
    "    def showSelf(self):\n",
    "        result = super().showSelf()\n",
    "        return \"I'm 'secondClass' but also \" + result\n",
    "\n",
    "x = myClass()\n",
    "x.showSelf()\n",
    "\n",
    "y = secondClass()\n",
    "y.showSelf()"
   ]
  },
  {
   "cell_type": "code",
   "execution_count": 7,
   "metadata": {},
   "outputs": [
    {
     "name": "stdout",
     "output_type": "stream",
     "text": [
      "File name is '.gitignore'\n",
      "['env']\n"
     ]
    }
   ],
   "source": [
    "# Reading files\n",
    "with open('.gitignore', 'r') as file:\n",
    "    print(\"File name is '\" + file.name + \"'\")\n",
    "    print(file.readlines())"
   ]
  },
  {
   "cell_type": "code",
   "execution_count": 10,
   "metadata": {},
   "outputs": [],
   "source": [
    "# Writing files\n",
    "# If files don't exist it will create one\n",
    "\n",
    "with open(\"myExampleFile.txt\", \"w\") as nFile:\n",
    "    nFile.write(\"Hello there!\")\n",
    "    nFile.write(\"\\nHello again!\")"
   ]
  },
  {
   "cell_type": "markdown",
   "metadata": {},
   "source": [
    "## File  modes\n",
    "### r+ : Reading and writing. Cannot truncate the file.\n",
    "### w+ : Writing and reading. Truncates the file.\n",
    "### a+ : Appending and Reading. Creates a new file, if none exists."
   ]
  }
 ],
 "metadata": {
  "kernelspec": {
   "display_name": "Python 3.10.4 ('env': venv)",
   "language": "python",
   "name": "python3"
  },
  "language_info": {
   "codemirror_mode": {
    "name": "ipython",
    "version": 3
   },
   "file_extension": ".py",
   "mimetype": "text/x-python",
   "name": "python",
   "nbconvert_exporter": "python",
   "pygments_lexer": "ipython3",
   "version": "3.10.4"
  },
  "orig_nbformat": 4,
  "vscode": {
   "interpreter": {
    "hash": "bcab4c40e64ccdad5b06f669247a3c4fe3c10189c780841c9cf1f211b57be5dd"
   }
  }
 },
 "nbformat": 4,
 "nbformat_minor": 2
}
