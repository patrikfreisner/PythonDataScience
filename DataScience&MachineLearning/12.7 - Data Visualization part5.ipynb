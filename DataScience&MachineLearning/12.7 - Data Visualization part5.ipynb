{
 "cells": [
  {
   "cell_type": "code",
   "execution_count": 8,
   "metadata": {},
   "outputs": [],
   "source": [
    "import pandas as pd\n",
    "import plotly.graph_objects as go\n",
    "import dash\n",
    "import dash_html_components as html\n",
    "import dash_core_components as dcc\n",
    "from dash.dependencies import Input, Output\n",
    "\n",
    "# Read the airline data into pandas dataframe\n",
    "airline_data = pd.read_csv('https://cf-courses-data.s3.us.cloud-object-storage.appdomain.cloud/IBMDeveloperSkillsNetwork-DV0101EN-SkillsNetwork/Data%20Files/airline_data.csv',\n",
    "                           encoding=\"ISO-8859-1\",\n",
    "                           dtype={'Div1Airport': str, 'Div1TailNum': str,\n",
    "                                  'Div2Airport': str, 'Div2TailNum': str})\n"
   ]
  },
  {
   "cell_type": "code",
   "execution_count": 12,
   "metadata": {},
   "outputs": [],
   "source": [
    "# Create a dash application\n",
    "app = dash.Dash(__name__)\n",
    "\n",
    "app.layout = html.Div(\n",
    "    children=[\n",
    "        html.H1('Airline Performance Dashboard', style={\n",
    "                'textAlign': 'center', 'color': '#503D36', 'font-size': 40}),\n",
    "        html.Div([\"Input Year: \", dcc.Input(id='input-year', value='2010',\n",
    "                                            type='number', style={'height': '50px', 'font-size': 35}), ],\n",
    "                 style={'font-size': 40}),\n",
    "        html.Br(),\n",
    "        html.Br(),\n",
    "        html.Div(dcc.Graph(id='line-plot')),\n",
    "    ]\n",
    ")\n"
   ]
  },
  {
   "cell_type": "code",
   "execution_count": 13,
   "metadata": {},
   "outputs": [
    {
     "name": "stdout",
     "output_type": "stream",
     "text": [
      "Dash is running on http://127.0.0.1:8050/\n",
      "\n",
      "Dash is running on http://127.0.0.1:8050/\n",
      "\n",
      "Dash is running on http://127.0.0.1:8050/\n",
      "\n",
      "Dash is running on http://127.0.0.1:8050/\n",
      "\n",
      "Dash is running on http://127.0.0.1:8050/\n",
      "\n",
      "Dash is running on http://127.0.0.1:8050/\n",
      "\n",
      "Dash is running on http://127.0.0.1:8050/\n",
      "\n",
      " * Serving Flask app '__main__'\n",
      " * Debug mode: off\n"
     ]
    },
    {
     "name": "stderr",
     "output_type": "stream",
     "text": [
      "WARNING: This is a development server. Do not use it in a production deployment. Use a production WSGI server instead.\n",
      " * Running on http://127.0.0.1:8050\n",
      "Press CTRL+C to quit\n",
      "127.0.0.1 - - [21/Sep/2022 20:05:01] \"GET / HTTP/1.1\" 200 -\n",
      "127.0.0.1 - - [21/Sep/2022 20:05:01] \"GET /_dash-component-suites/dash/deps/polyfill@7.v2_6_1m1663799915.12.1.min.js HTTP/1.1\" 200 -\n",
      "127.0.0.1 - - [21/Sep/2022 20:05:01] \"GET /_dash-component-suites/dash/deps/react@16.v2_6_1m1663799915.14.0.min.js HTTP/1.1\" 200 -\n",
      "127.0.0.1 - - [21/Sep/2022 20:05:01] \"GET /_dash-component-suites/dash/deps/react-dom@16.v2_6_1m1663799915.14.0.min.js HTTP/1.1\" 200 -\n",
      "127.0.0.1 - - [21/Sep/2022 20:05:01] \"GET /_dash-component-suites/dash/deps/prop-types@15.v2_6_1m1663799915.8.1.min.js HTTP/1.1\" 200 -\n",
      "127.0.0.1 - - [21/Sep/2022 20:05:01] \"GET /_dash-component-suites/dash/dash-renderer/build/dash_renderer.v2_6_1m1663799915.min.js HTTP/1.1\" 200 -\n",
      "127.0.0.1 - - [21/Sep/2022 20:05:01] \"GET /_dash-component-suites/dash/dcc/dash_core_components-shared.v2_6_1m1663799915.js HTTP/1.1\" 200 -\n",
      "127.0.0.1 - - [21/Sep/2022 20:05:01] \"GET /_dash-component-suites/dash/dcc/dash_core_components.v2_6_1m1663799915.js HTTP/1.1\" 200 -\n",
      "127.0.0.1 - - [21/Sep/2022 20:05:01] \"GET /_dash-component-suites/dash/html/dash_html_components.v2_0_5m1663799915.min.js HTTP/1.1\" 200 -\n",
      "127.0.0.1 - - [21/Sep/2022 20:05:01] \"GET /_dash-component-suites/dash/dash_table/bundle.v5_1_5m1663799915.js HTTP/1.1\" 200 -\n",
      "127.0.0.1 - - [21/Sep/2022 20:05:01] \"GET /_dash-layout HTTP/1.1\" 200 -\n",
      "127.0.0.1 - - [21/Sep/2022 20:05:01] \"GET /_dash-dependencies HTTP/1.1\" 200 -\n",
      "127.0.0.1 - - [21/Sep/2022 20:05:01] \"GET /_favicon.ico?v=2.6.1 HTTP/1.1\" 200 -\n",
      "127.0.0.1 - - [21/Sep/2022 20:05:01] \"GET /_dash-component-suites/dash/dcc/async-graph.js HTTP/1.1\" 304 -\n",
      "127.0.0.1 - - [21/Sep/2022 20:05:01] \"GET /_dash-component-suites/dash/dcc/async-plotlyjs.js HTTP/1.1\" 304 -\n",
      "127.0.0.1 - - [21/Sep/2022 20:05:01] \"POST /_dash-update-component HTTP/1.1\" 200 -\n",
      "127.0.0.1 - - [21/Sep/2022 20:05:03] \"POST /_dash-update-component HTTP/1.1\" 200 -\n",
      "127.0.0.1 - - [21/Sep/2022 20:05:03] \"POST /_dash-update-component HTTP/1.1\" 200 -\n",
      "127.0.0.1 - - [21/Sep/2022 20:05:04] \"POST /_dash-update-component HTTP/1.1\" 200 -\n",
      "127.0.0.1 - - [21/Sep/2022 20:05:05] \"POST /_dash-update-component HTTP/1.1\" 200 -\n"
     ]
    }
   ],
   "source": [
    "# add callback decorator\n",
    "@app.callback(Output(component_id='line-plot', component_property='figure'),\n",
    "              Input(component_id='input-year', component_property='value'))\n",
    "# Add computation to callback function and return graph\n",
    "def get_graph(entered_year):\n",
    "    # Select 2019 data\n",
    "    df = airline_data[airline_data['Year'] == int(entered_year)]\n",
    "\n",
    "    # Group the data by Month and compute average over arrival delay time.\n",
    "    line_data = df.groupby('Month')['ArrDelay'].mean().reset_index()\n",
    "\n",
    "    fig = go.Figure(data=go.Scatter(\n",
    "        x=line_data['Month'], y=line_data['ArrDelay'], mode='lines', marker=dict(color='green')))\n",
    "    fig.update_layout(title='Month vs Average Flight Delay Time',\n",
    "                      xaxis_title='Month', yaxis_title='ArrDelay')\n",
    "    return fig\n",
    "\n",
    "\n",
    "# Run the app\n",
    "if __name__ == '__main__':\n",
    "    app.run_server()\n"
   ]
  }
 ],
 "metadata": {
  "kernelspec": {
   "display_name": "Python 3.10.7 ('env': venv)",
   "language": "python",
   "name": "python3"
  },
  "language_info": {
   "codemirror_mode": {
    "name": "ipython",
    "version": 3
   },
   "file_extension": ".py",
   "mimetype": "text/x-python",
   "name": "python",
   "nbconvert_exporter": "python",
   "pygments_lexer": "ipython3",
   "version": "3.10.7"
  },
  "orig_nbformat": 4,
  "vscode": {
   "interpreter": {
    "hash": "01f712b1ff033ed204278e6cf9bfc3c700197c5830d36da29d5c312a7407fd5c"
   }
  }
 },
 "nbformat": 4,
 "nbformat_minor": 2
}
