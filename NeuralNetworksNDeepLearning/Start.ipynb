{
 "cells": [
  {
   "cell_type": "markdown",
   "metadata": {},
   "source": [
    "### Supervised Learning with Neural Networks\n",
    "\n",
    "<table>\n",
    "    <thead>\n",
    "        <th>\n",
    "            Input (x)\n",
    "        </th>\n",
    "        <th>\n",
    "            Output (y)\n",
    "        </th>\n",
    "        <th>\n",
    "            Application\n",
    "        </th>\n",
    "        <th>\n",
    "            DL Method\n",
    "        </th>\n",
    "    </thead>\n",
    "    <tbody>\n",
    "         <tr>\n",
    "            <td>\n",
    "                Home features\n",
    "            </td>\n",
    "            <td>\n",
    "                Price\n",
    "            </td>\n",
    "            <td>\n",
    "                Real estate\n",
    "            </td>\n",
    "            <td>\n",
    "                Standard NN\n",
    "            </td>\n",
    "        </tr>\n",
    "         <tr>\n",
    "            <td>\n",
    "                Ad, user info\n",
    "            </td>\n",
    "            <td>\n",
    "                Click on ad? (0/1)\n",
    "            </td>\n",
    "            <td>\n",
    "                Online Advertising\n",
    "            </td>\n",
    "            <td>\n",
    "                Standard NN\n",
    "            </td>\n",
    "        </tr>\n",
    "         <tr>\n",
    "            <td>\n",
    "                Image\n",
    "            </td>\n",
    "            <td>\n",
    "                Object (1, ......, 1000)\n",
    "            </td>\n",
    "            <td>\n",
    "                Photo tagging\n",
    "            </td>\n",
    "            <td>\n",
    "                Convolutional Neural Networks (CNN)\n",
    "            </td>\n",
    "        </tr>\n",
    "         <tr>\n",
    "            <td>\n",
    "                Audio\n",
    "            </td>\n",
    "            <td>\n",
    "                Tex transcript\n",
    "            </td>\n",
    "            <td>\n",
    "                Speech recognition\n",
    "            </td>\n",
    "            <td>\n",
    "                Recurrent neural network (RNN)\n",
    "            </td>\n",
    "        </tr>\n",
    "         <tr>\n",
    "            <td>\n",
    "                English\n",
    "            </td>\n",
    "            <td>\n",
    "                Chinese\n",
    "            </td>\n",
    "            <td>\n",
    "                Machine translation\n",
    "            </td>\n",
    "            <td>\n",
    "                Recurrent neural network (RNN)\n",
    "            </td>\n",
    "        </tr>\n",
    "         <tr>\n",
    "            <td>\n",
    "                Image, Radas info\n",
    "            </td>\n",
    "            <td>\n",
    "                Position of other cars\n",
    "            </td>\n",
    "            <td>\n",
    "                Autonomous driving\n",
    "            </td>\n",
    "            <td>\n",
    "                Custom/Hybric Architecture \n",
    "            </td>\n",
    "        </tr>\n",
    "    </tbody>\n",
    "</table>"
   ]
  },
  {
   "cell_type": "code",
   "execution_count": 29,
   "metadata": {},
   "outputs": [
    {
     "data": {
      "text/plain": [
       "array([[3, 3],\n",
       "       [4, 2]])"
      ]
     },
     "execution_count": 29,
     "metadata": {},
     "output_type": "execute_result"
    }
   ],
   "source": [
    "\n"
   ]
  }
 ],
 "metadata": {
  "kernelspec": {
   "display_name": "Python 3.10.4 ('env': venv)",
   "language": "python",
   "name": "python3"
  },
  "language_info": {
   "name": "python",
   "version": "3.10.4"
  },
  "orig_nbformat": 4,
  "vscode": {
   "interpreter": {
    "hash": "78c3fd5810f68422452cc8d89406bfa1f9d96eb6340ecead556bb9d68797532a"
   }
  }
 },
 "nbformat": 4,
 "nbformat_minor": 2
}
