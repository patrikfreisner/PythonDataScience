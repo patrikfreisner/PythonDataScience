{
 "cells": [
  {
   "cell_type": "code",
   "execution_count": null,
   "metadata": {},
   "outputs": [],
   "source": [
    "import pandas as pd\n",
    "import numpy as np\n",
    "from matplotlib import pyplot as plt\n",
    "import seaborn as sns\n",
    "from pandas_datareader import data as web\n",
    "import warnings\n",
    "warnings.filterwarnings(\"ignore\")\n",
    "\n",
    "prices = pd.DataFrame()\n",
    "tickers = ['ITUB3.SA', 'BBDC3.SA', 'BBAS3.SA', 'SANB3.SA', '^BVSP']\n",
    "for i in tickers:\n",
    "    prices[i] = web.get_data_yahoo(i,'01/01/2008')['Adj Close']"
   ]
  },
  {
   "cell_type": "code",
   "execution_count": null,
   "metadata": {},
   "outputs": [],
   "source": [
    "prices.tail()"
   ]
  },
  {
   "cell_type": "code",
   "execution_count": null,
   "metadata": {},
   "outputs": [],
   "source": [
    "prices.rename(columns ={'ITUB3.SA':'ITUB', 'BBDC3.SA':'BBDC','BBAS3.SA':'BBAS','SANB3.SA':'SANB', '^BVSP':'IBOV'},inplace = True)\n",
    "prices['IBOV'] = prices['IBOV']/1000\n",
    "prices.reset_index(inplace = True)"
   ]
  },
  {
   "cell_type": "code",
   "execution_count": null,
   "metadata": {},
   "outputs": [],
   "source": [
    "prices.dropna(subset = ['IBOV'], inplace = True)\n",
    "prices.IBOV.isnull().sum()"
   ]
  },
  {
   "cell_type": "code",
   "execution_count": null,
   "metadata": {},
   "outputs": [],
   "source": [
    "tickers = list(prices.drop(['Date'], axis = 1).columns)\n",
    "plt.figure(figsize=(16,6))\n",
    "\n",
    "for i in tickers:\n",
    "        plt.plot(prices['Date'], prices[i])\n",
    "plt.legend(tickers)\n",
    "plt.grid()\n",
    "plt.title(\"Cotação x tempo\", fontsize = 25)\n",
    "plt.show()"
   ]
  },
  {
   "cell_type": "code",
   "execution_count": null,
   "metadata": {},
   "outputs": [],
   "source": [
    "plt.figure(figsize=(16,6))\n",
    "plt.plot(prices['Date'],prices['ITUB'].rolling(window = 90).mean())\n",
    "plt.plot(prices['Date'], prices['ITUB'], alpha = 0.8)\n",
    "plt.plot(prices['Date'],prices['ITUB'].rolling(window = 365).mean())\n",
    "plt.grid()\n",
    "plt.title('Cotações diárias e médias móveis de ITUB3', fontsize = 15)\n",
    "plt.legend(['Média móvel trimestral','Cotação diária','Média móvel anual'])\n",
    "plt.show()"
   ]
  },
  {
   "cell_type": "code",
   "execution_count": null,
   "metadata": {},
   "outputs": [],
   "source": [
    "import csv\n",
    "import requests\n",
    "import time\n",
    "from datetime import datetime\n",
    "from bs4 import BeautifulSoup\n",
    "\n",
    "url = 'https://www.fundsexplorer.com.br/ranking'\n",
    "\n",
    "# Data Cleansing\n",
    "# 'R$' => ''\n",
    "# '%' => ''\n",
    "# '.0' => ''\n",
    "# '.' => ''\n",
    "# ',' => '.'\n",
    "# 'N/A' => ''\n",
    "\n",
    "print(\"Starting...{}\".format(datetime.now()))\n",
    "\n",
    "response = requests.get(url)\n",
    "\n",
    "soup = BeautifulSoup(response.text, \"html.parser\")\n",
    "\n",
    "data = []\n",
    "table = soup.find(id=\"table-ranking\")\n",
    "\n",
    "table_head = table.find('thead')\n",
    "\n",
    "rows = table_head.find_all('tr')\n",
    "for row in rows:\n",
    "    cols = row.find_all('th')\n",
    "    colsd = [ele.get_text(separator=\" \").strip() for ele in cols]\n",
    "    data.append([ele for ele in colsd])\n",
    "\n",
    "table_body = table.find('tbody')\n",
    "\n",
    "rows = table_body.find_all('tr')\n",
    "for row in rows:\n",
    "    cols = row.find_all('td')\n",
    "    colsd = [ele.text.replace('R$','').replace('%','').replace('.0','').replace('.','').replace('N/A','').replace(',','.').strip() for ele in cols]\n",
    "    data.append([ele for ele in colsd])\n",
    "\n",
    "file = open(\"fii.csv\", \"w\")\n",
    "\n",
    "wtr = csv.writer(file, delimiter=';', lineterminator='\\n')\n",
    "for x in data : wtr.writerow(x)\n",
    "\n",
    "file.close()\n",
    "\n",
    "print(\"Finish...{}\".format(datetime.now()))\n",
    "\n",
    "time.sleep(1)"
   ]
  },
  {
   "cell_type": "code",
   "execution_count": 20,
   "metadata": {},
   "outputs": [
    {
     "data": {
      "text/plain": [
       "<bound method DataFrame.value_counts of     Código do fundo  Magic Number\n",
       "0            FIVN11           inf\n",
       "23           CJCT11           inf\n",
       "17           RBDS11           inf\n",
       "16           KNRE11           inf\n",
       "31           CARE11           inf\n",
       "..              ...           ...\n",
       "104          SPVJ11           NaN\n",
       "158          STRX11           NaN\n",
       "177          BTSG11           NaN\n",
       "212          BBIM11           NaN\n",
       "214         NVIF11B           NaN\n",
       "\n",
       "[284 rows x 2 columns]>"
      ]
     },
     "execution_count": 20,
     "metadata": {},
     "output_type": "execute_result"
    }
   ],
   "source": [
    "from tkinter import Y\n",
    "import pandas as pd\n",
    "import numpy as np\n",
    "import matplotlib as plt\n",
    "import math\n",
    "\n",
    "df = pd.read_csv(\"./fii.csv\", sep=\";\")\n",
    "# df.set_index(\"Código do fundo\").loc[\"VGHF11\"]\n",
    "\n",
    "df[\"Magic Number\"] = df[\"Preço Atual\"]/df[\"Dividendo\"]\n",
    "df[\"Magic Number\"] = df[\"Magic Number\"].apply(np.ceil)\n",
    "df = df.sort_values(by=\"Magic Number\", ascending=False)\n",
    "\n",
    "df[[\"Código do fundo\", \"Magic Number\"]].value_counts"
   ]
  }
 ],
 "metadata": {
  "kernelspec": {
   "display_name": "Python 3.10.4 ('env': venv)",
   "language": "python",
   "name": "python3"
  },
  "language_info": {
   "codemirror_mode": {
    "name": "ipython",
    "version": 3
   },
   "file_extension": ".py",
   "mimetype": "text/x-python",
   "name": "python",
   "nbconvert_exporter": "python",
   "pygments_lexer": "ipython3",
   "version": "3.10.4"
  },
  "orig_nbformat": 4,
  "vscode": {
   "interpreter": {
    "hash": "78c3fd5810f68422452cc8d89406bfa1f9d96eb6340ecead556bb9d68797532a"
   }
  }
 },
 "nbformat": 4,
 "nbformat_minor": 2
}
