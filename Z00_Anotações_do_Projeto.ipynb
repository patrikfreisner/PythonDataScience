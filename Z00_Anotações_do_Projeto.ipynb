{
 "cells": [
  {
   "cell_type": "markdown",
   "metadata": {},
   "source": [
    "## Normalização de dados\n",
    "- Machine Learning tem performance melhor quando os dados estão em escalas menores.\n",
    "- Faz com que o processo de \"treino\" seja menos sensitivo a escalas"
   ]
  },
  {
   "cell_type": "code",
   "execution_count": null,
   "metadata": {},
   "outputs": [],
   "source": []
  },
  {
   "cell_type": "markdown",
   "metadata": {},
   "source": [
    "## GridSearchCV\n",
    "- Utilizado para encontrar melhor parametrização ou \"tunning\" para o classificador\n",
    "- É necessario conhecer um pouco dos parametros do classificador para parametrizar o GridSearchCV\n",
    "- Com alguns comando é possivel descobrir qual melhor parametrização e qual resultado da mesma\n",
    "    - pd.DataFrame(grid.cv_results_)\n",
    "    - grid.best_params_\n",
    "    - grid.best_score_"
   ]
  },
  {
   "cell_type": "code",
   "execution_count": null,
   "metadata": {},
   "outputs": [],
   "source": []
  },
  {
   "cell_type": "markdown",
   "metadata": {},
   "source": [
    "## PipeLine em Machine Learning\n",
    "- https://medium.com/data-hackers/como-usar-pipelines-no-scikit-learn-1398a4cc6ae9\n",
    "- TODO"
   ]
  },
  {
   "cell_type": "code",
   "execution_count": null,
   "metadata": {},
   "outputs": [],
   "source": []
  },
  {
   "cell_type": "markdown",
   "metadata": {},
   "source": [
    "### Data Science Learning Path\n",
    "- https://www.kaggle.com/discussions/getting-started/146427\n",
    "### Summary of IBM Data Science Course\n",
    "- https://github.com/ZihengZZH/data-science-IBM#k-means"
   ]
  }
 ],
 "metadata": {
  "kernelspec": {
   "display_name": "Python 3.10.4 ('env': venv)",
   "language": "python",
   "name": "python3"
  },
  "language_info": {
   "name": "python",
   "version": "3.10.4"
  },
  "orig_nbformat": 4,
  "vscode": {
   "interpreter": {
    "hash": "78c3fd5810f68422452cc8d89406bfa1f9d96eb6340ecead556bb9d68797532a"
   }
  }
 },
 "nbformat": 4,
 "nbformat_minor": 2
}
